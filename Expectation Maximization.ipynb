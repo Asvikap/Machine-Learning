{
 "cells": [
  {
   "cell_type": "code",
   "execution_count": 1,
   "id": "9ad3b98d",
   "metadata": {},
   "outputs": [
    {
     "data": {
      "image/png": "[encoded data removed]",
      "text/plain": [
       "<Figure size 720x360 with 1 Axes>"
      ]
     },
     "metadata": {
      "needs_background": "light"
     },
     "output_type": "display_data"
    }
   ],
   "source": [
    "import matplotlib.pyplot as plt\n",
    "import numpy as np\n",
    "import pandas as pd\n",
    "# initial some points along the line\n",
    "samples = [0,1,3,4,5,6, 2,4.5,7,8,10,12]\n",
    "# plot them\n",
    "plt.rcParams[\"figure.figsize\"] = [10, 5]\n",
    "y_value = 0\n",
    "y = np.zeros_like(samples) + y_value\n",
    "plt.scatter(samples, y, ls='dotted')\n",
    "plt.show()"
   ]
  },
  {
   "cell_type": "code",
   "execution_count": 2,
   "id": "e27dc904",
   "metadata": {},
   "outputs": [
    {
     "ename": "SyntaxError",
     "evalue": "invalid syntax (1263437476.py, line 1)",
     "output_type": "error",
     "traceback": [
      "\u001b[1;36m  Input \u001b[1;32mIn [2]\u001b[1;36m\u001b[0m\n\u001b[1;33m    Class0 ~ N(mu1, sigma1)\u001b[0m\n\u001b[1;37m           ^\u001b[0m\n\u001b[1;31mSyntaxError\u001b[0m\u001b[1;31m:\u001b[0m invalid syntax\n"
     ]
    }
   ],
   "source": [
    "Class0 ~ N(mu1, sigma1)\n",
    "Class1 ~ N(mu2, sigma2)"
   ]
  },
  {
   "cell_type": "code",
   "execution_count": null,
   "id": "0ca625a9",
   "metadata": {},
   "outputs": [],
   "source": [
    "N(mu1, sigma1), N(mu2, sigma2)"
   ]
  },
  {
   "cell_type": "code",
   "execution_count": null,
   "id": "8cce7648",
   "metadata": {},
   "outputs": [],
   "source": [
    "mu1, sigma1, mu2, sigma2"
   ]
  },
  {
   "cell_type": "code",
   "execution_count": 3,
   "id": "e7b6c90a",
   "metadata": {},
   "outputs": [
    {
     "ename": "SyntaxError",
     "evalue": "cannot assign to literal (3124662217.py, line 1)",
     "output_type": "error",
     "traceback": [
      "\u001b[1;36m  Input \u001b[1;32mIn [3]\u001b[1;36m\u001b[0m\n\u001b[1;33m    mu1=0, sigma1=1, mu=1, sigma=2\u001b[0m\n\u001b[1;37m        ^\u001b[0m\n\u001b[1;31mSyntaxError\u001b[0m\u001b[1;31m:\u001b[0m cannot assign to literal\n"
     ]
    }
   ],
   "source": [
    "mu1=0, sigma1=1, mu=1, sigma=2"
   ]
  },
  {
   "cell_type": "code",
   "execution_count": 4,
   "id": "aabeaa8e",
   "metadata": {},
   "outputs": [
    {
     "ename": "NameError",
     "evalue": "name 'scipy' is not defined",
     "output_type": "error",
     "traceback": [
      "\u001b[1;31m---------------------------------------------------------------------------\u001b[0m",
      "\u001b[1;31mNameError\u001b[0m                                 Traceback (most recent call last)",
      "Input \u001b[1;32mIn [4]\u001b[0m, in \u001b[0;36m<cell line: 10>\u001b[1;34m()\u001b[0m\n\u001b[0;32m      8\u001b[0m samples_2 \u001b[38;5;241m=\u001b[39m np\u001b[38;5;241m.\u001b[39mrandom\u001b[38;5;241m.\u001b[39mnormal(mu2, sigma2, \u001b[38;5;241m100000\u001b[39m)\n\u001b[0;32m      9\u001b[0m \u001b[38;5;66;03m# get pdf from the samples \u001b[39;00m\n\u001b[1;32m---> 10\u001b[0m y_normal_1 \u001b[38;5;241m=\u001b[39m \u001b[43mscipy\u001b[49m\u001b[38;5;241m.\u001b[39mstats\u001b[38;5;241m.\u001b[39mnorm(mu1, sigma1)\u001b[38;5;241m.\u001b[39mpdf(np\u001b[38;5;241m.\u001b[39msort(samples_1))\n\u001b[0;32m     11\u001b[0m y_normal_2 \u001b[38;5;241m=\u001b[39m scipy\u001b[38;5;241m.\u001b[39mstats\u001b[38;5;241m.\u001b[39mnorm(mu2, sigma2)\u001b[38;5;241m.\u001b[39mpdf(np\u001b[38;5;241m.\u001b[39msort(samples_2))\n\u001b[0;32m     12\u001b[0m \u001b[38;5;66;03m# plot\u001b[39;00m\n",
      "\u001b[1;31mNameError\u001b[0m: name 'scipy' is not defined"
     ]
    }
   ],
   "source": [
    "# first initial\n",
    "mu1 = 0\n",
    "sigma1 = 1\n",
    "mu2 = 1\n",
    "sigma2 = 1\n",
    "# sample 100000 times from this two initial normal distribution \n",
    "samples_1 = np.random.normal(mu1, sigma1, 100000)\n",
    "samples_2 = np.random.normal(mu2, sigma2, 100000)\n",
    "# get pdf from the samples \n",
    "y_normal_1 = scipy.stats.norm(mu1, sigma1).pdf(np.sort(samples_1))\n",
    "y_normal_2 = scipy.stats.norm(mu2, sigma2).pdf(np.sort(samples_2))\n",
    "# plot\n",
    "plt.rcParams[\"figure.figsize\"] = [10, 5]\n",
    "y_value = 0\n",
    "y = np.zeros_like(samples) + y_value\n",
    "plt.scatter(samples, y, ls='dotted')\n",
    "plt.plot(np.sort(samples_1), y_normal_1, c='purple')\n",
    "plt.plot(np.sort(samples_2), y_normal_2, c='yellow')"
   ]
  },
  {
   "cell_type": "code",
   "execution_count": 5,
   "id": "195f8d9a",
   "metadata": {},
   "outputs": [
    {
     "data": {
      "text/html": [
       "<div>\n",
       "<style scoped>\n",
       "    .dataframe tbody tr th:only-of-type {\n",
       "        vertical-align: middle;\n",
       "    }\n",
       "\n",
       "    .dataframe tbody tr th {\n",
       "        vertical-align: top;\n",
       "    }\n",
       "\n",
       "    .dataframe thead th {\n",
       "        text-align: right;\n",
       "    }\n",
       "</style>\n",
       "<table border=\"1\" class=\"dataframe\">\n",
       "  <thead>\n",
       "    <tr style=\"text-align: right;\">\n",
       "      <th></th>\n",
       "      <th>samples</th>\n",
       "      <th>p(X=x|class0)</th>\n",
       "      <th>p(X=x|class1)</th>\n",
       "    </tr>\n",
       "  </thead>\n",
       "  <tbody>\n",
       "    <tr>\n",
       "      <th>0</th>\n",
       "      <td>0.0</td>\n",
       "      <td>3.990434e-01</td>\n",
       "      <td>2.420321e-01</td>\n",
       "    </tr>\n",
       "    <tr>\n",
       "      <th>1</th>\n",
       "      <td>1.0</td>\n",
       "      <td>2.420321e-01</td>\n",
       "      <td>3.990434e-01</td>\n",
       "    </tr>\n",
       "    <tr>\n",
       "      <th>2</th>\n",
       "      <td>3.0</td>\n",
       "      <td>4.432972e-03</td>\n",
       "      <td>5.400466e-02</td>\n",
       "    </tr>\n",
       "    <tr>\n",
       "      <th>3</th>\n",
       "      <td>4.0</td>\n",
       "      <td>1.338642e-04</td>\n",
       "      <td>4.432972e-03</td>\n",
       "    </tr>\n",
       "    <tr>\n",
       "      <th>4</th>\n",
       "      <td>5.0</td>\n",
       "      <td>1.487097e-06</td>\n",
       "      <td>1.338642e-04</td>\n",
       "    </tr>\n",
       "    <tr>\n",
       "      <th>5</th>\n",
       "      <td>6.0</td>\n",
       "      <td>6.077424e-09</td>\n",
       "      <td>1.487097e-06</td>\n",
       "    </tr>\n",
       "    <tr>\n",
       "      <th>6</th>\n",
       "      <td>2.0</td>\n",
       "      <td>5.400466e-02</td>\n",
       "      <td>2.420321e-01</td>\n",
       "    </tr>\n",
       "    <tr>\n",
       "      <th>7</th>\n",
       "      <td>4.5</td>\n",
       "      <td>1.598779e-05</td>\n",
       "      <td>8.729040e-04</td>\n",
       "    </tr>\n",
       "    <tr>\n",
       "      <th>8</th>\n",
       "      <td>7.0</td>\n",
       "      <td>9.137037e-12</td>\n",
       "      <td>6.077424e-09</td>\n",
       "    </tr>\n",
       "    <tr>\n",
       "      <th>9</th>\n",
       "      <td>8.0</td>\n",
       "      <td>5.053552e-15</td>\n",
       "      <td>9.137037e-12</td>\n",
       "    </tr>\n",
       "    <tr>\n",
       "      <th>10</th>\n",
       "      <td>10.0</td>\n",
       "      <td>7.696550e-23</td>\n",
       "      <td>1.028238e-18</td>\n",
       "    </tr>\n",
       "    <tr>\n",
       "      <th>11</th>\n",
       "      <td>12.0</td>\n",
       "      <td>2.146928e-32</td>\n",
       "      <td>2.119357e-27</td>\n",
       "    </tr>\n",
       "  </tbody>\n",
       "</table>\n",
       "</div>"
      ],
      "text/plain": [
       "    samples  p(X=x|class0)  p(X=x|class1)\n",
       "0       0.0   3.990434e-01   2.420321e-01\n",
       "1       1.0   2.420321e-01   3.990434e-01\n",
       "2       3.0   4.432972e-03   5.400466e-02\n",
       "3       4.0   1.338642e-04   4.432972e-03\n",
       "4       5.0   1.487097e-06   1.338642e-04\n",
       "5       6.0   6.077424e-09   1.487097e-06\n",
       "6       2.0   5.400466e-02   2.420321e-01\n",
       "7       4.5   1.598779e-05   8.729040e-04\n",
       "8       7.0   9.137037e-12   6.077424e-09\n",
       "9       8.0   5.053552e-15   9.137037e-12\n",
       "10     10.0   7.696550e-23   1.028238e-18\n",
       "11     12.0   2.146928e-32   2.119357e-27"
      ]
     },
     "execution_count": 5,
     "metadata": {},
     "output_type": "execute_result"
    }
   ],
   "source": [
    "# get likelihood for each x from gaussian_1 and gaussian_0\n",
    "# get likelihood of x in gaussian_1\n",
    "likelihood_x_gaussian_1 = [1/np.sqrt(2*3.14) * np.exp((-1/2)*(xi**2)) for xi in samples]\n",
    "# get likelihood of x in gaussian_0\n",
    "likelihood_x_gaussian_0 = [1/np.sqrt(2*3.14) * np.exp((-1/2)*((xi-1)**2)) for xi in samples]\n",
    "# create a dataframe \n",
    "df_likelihood = pd.DataFrame([samples, likelihood_x_gaussian_1, likelihood_x_gaussian_0]).transpose()\n",
    "df_likelihood.columns = ['samples', 'p(X=x|class0)', 'p(X=x|class1)']\n",
    "df_likelihood"
   ]
  },
  {
   "cell_type": "code",
   "execution_count": 6,
   "id": "7c3c6f60",
   "metadata": {},
   "outputs": [
    {
     "ename": "SyntaxError",
     "evalue": "cannot assign to function call (3670936527.py, line 1)",
     "output_type": "error",
     "traceback": [
      "\u001b[1;36m  Input \u001b[1;32mIn [6]\u001b[1;36m\u001b[0m\n\u001b[1;33m    p(class0) = p(class1) = 0.5\u001b[0m\n\u001b[1;37m    ^\u001b[0m\n\u001b[1;31mSyntaxError\u001b[0m\u001b[1;31m:\u001b[0m cannot assign to function call\n"
     ]
    }
   ],
   "source": [
    "p(class0) = p(class1) = 0.5"
   ]
  },
  {
   "cell_type": "code",
   "execution_count": 7,
   "id": "f4128b7a",
   "metadata": {},
   "outputs": [
    {
     "ename": "NameError",
     "evalue": "name 'likelihood' is not defined",
     "output_type": "error",
     "traceback": [
      "\u001b[1;31m---------------------------------------------------------------------------\u001b[0m",
      "\u001b[1;31mNameError\u001b[0m                                 Traceback (most recent call last)",
      "Input \u001b[1;32mIn [7]\u001b[0m, in \u001b[0;36m<cell line: 1>\u001b[1;34m()\u001b[0m\n\u001b[1;32m----> 1\u001b[0m Posterior \u001b[38;5;241m=\u001b[39m (\u001b[43mlikelihood\u001b[49m \u001b[38;5;241m*\u001b[39m prior)\u001b[38;5;241m/\u001b[39mEvidence\n",
      "\u001b[1;31mNameError\u001b[0m: name 'likelihood' is not defined"
     ]
    }
   ],
   "source": [
    "Posterior = (likelihood * prior)/Evidence "
   ]
  },
  {
   "cell_type": "code",
   "execution_count": 8,
   "id": "fd903dfd",
   "metadata": {},
   "outputs": [
    {
     "ename": "SyntaxError",
     "evalue": "cannot assign to function call (2541320457.py, line 1)",
     "output_type": "error",
     "traceback": [
      "\u001b[1;36m  Input \u001b[1;32mIn [8]\u001b[1;36m\u001b[0m\n\u001b[1;33m    p(x=0|class0) = 0.399\u001b[0m\n\u001b[1;37m    ^\u001b[0m\n\u001b[1;31mSyntaxError\u001b[0m\u001b[1;31m:\u001b[0m cannot assign to function call\n"
     ]
    }
   ],
   "source": [
    "p(x=0|class0) = 0.399\n",
    "p(x=0|class1) = 0.242\n",
    "And \n",
    "p(class0) = 0.5\n",
    "p(class1) = 0.5\n",
    "Then:\n",
    "p(class0|x=0) = p(x=0|class0)*p(class0)/(p(x=0|class0)*p(class0) + p(x=0|class1)*p(class1))\n",
    "= 0.399*0.5 / (0.399*0.5+0.242*0.5)\n",
    "= 0.622\n",
    "p(class1|x=0) = p(x=0|class1)*p(class1) /(p(x=0|class0)*p(class0) + p(x=0|class1)*p(class1))\n",
    "= 0.242*0.5 / (0.399*0.5+0.242*0.5)\n",
    "= 0.377"
   ]
  },
  {
   "cell_type": "code",
   "execution_count": 10,
   "id": "de2d6187",
   "metadata": {},
   "outputs": [],
   "source": [
    "# get likelihood of class0 and class1 occurs given samples\n",
    "# define prior\n",
    "prior_class_0 = 0.5\n",
    "prior_class_1 = 0.5\n",
    "# get likelihood of gaussian_1 occurs based on x1\n",
    "df_likelihood['p(class0|x)'] = df_likelihood.apply(lambda row: \n",
    "                                                       row[\"p(X=x|class0)\"] * 0.5/(row[\"p(X=x|class1)\"]*0.5+row[\"p(X=x|class0)\"]*0.5),axis =1)\n",
    "# get likelihood of gaussian_0 occurs based on x1\n",
    "df_likelihood['p(class1|x)'] = df_likelihood.apply(lambda row: \n",
    "                                                       row['p(X=x|class1)'] * 0.5/(row['p(X=x|class1)']*0.5+row['p(X=x|class0)']*0.5), axis=1)\n"
   ]
  },
  {
   "cell_type": "code",
   "execution_count": 11,
   "id": "1db3807d",
   "metadata": {},
   "outputs": [],
   "source": [
    "# standardization of p(Gaussian_1|x) and p(Gaussian_0|x)\n",
    "df_likelihood['p(class0|x)_standardized'] = df_likelihood['p(class0|x)'] / sum(df_likelihood['p(class0|x)'])\n",
    "df_likelihood['p(class1|x)_standardized'] = df_likelihood['p(class1|x)'] / sum(df_likelihood['p(class1|x)'])"
   ]
  },
  {
   "cell_type": "code",
   "execution_count": null,
   "id": "eb43af98",
   "metadata": {},
   "outputs": [],
   "source": [
    "mu1_new = E(mu1) \n",
    "        = sum of (xi * p(class0|X=xi))\n",
    "        = 0 * 0.43 + 1 * 0.26 + 3 * 0.05 + ....+ 12 * 0.000007\n",
    "        = 1.08\n",
    "variance1_new = E(variance) \n",
    "           = sum of ((xi - mu1_new)^2 * p(class0| X=xi))\n",
    "           = (0-1.08)^2*0.47+(1-1.08)^2*0.28+..+(12-1.08)^2*0.000008\n",
    "           = 1.54\n",
    "sigma1_new = square_root(variance1_new/N) \n",
    "           = square_root(1.54 / 12)\n",
    "           = 0.34\n",
    "mu2_new = E(mu2) \n",
    "        = sum of (xi * p(Gaussian_0|X=xi)) \n",
    "        = 0 * 0.035 + 1 * 0.058 + ... + 12*0.0936 \n",
    "        = 5.48\n",
    "variance2_new = E(variance) \n",
    "           = sum of ((xi - mu2_new)^2 * p(class1| X=xi))\n",
    "           = (0-5.49)^2*0.033+(1-5.49)^2*0.053...+(12-5.49)^2*0.086\n",
    "           = 10.59\n",
    "sigma1_new = square_root(variance2_new/N) \n",
    "           = square_root(10.59 / 12)\n",
    "           = 0.90"
   ]
  },
  {
   "cell_type": "code",
   "execution_count": null,
   "id": "696d6bb7",
   "metadata": {},
   "outputs": [],
   "source": [
    "# update mu1, mu2, sigma1, sigma2\n",
    "mu1_new = sum(df_likelihood['samples'] * df_likelihood['p(class0|x)_standardized'])\n",
    "print(mu1_new)\n",
    "variance1_new = sum((df_likelihood['samples']-mu1_new)**2 * df_likelihood['p(class0|x)_standardized'])\n",
    "print(variance1_new)\n",
    "sigma1_new = np.sqrt(variance1_new/len(samples))\n",
    "print(sigma1_new)\n",
    "mu2_new = sum(df_likelihood['samples'] * df_likelihood['p(class1|x)_standardized'])\n",
    "print(mu2_new)\n",
    "variance2_new = sum((df_likelihood['samples']-mu2_new)**2 * df_likelihood['p(class1|x)_standardized'])\n",
    "print(variance2_new)\n",
    "sigma2_new = np.sqrt(variance2_new/len(samples))\n",
    "print(sigma2_new)"
   ]
  },
  {
   "cell_type": "code",
   "execution_count": null,
   "id": "96d75d2d",
   "metadata": {},
   "outputs": [],
   "source": [
    "# finish 1st round\n",
    "# generate class label if we need a hard assignment\n",
    "p0 = [scipy.stats.norm(mu1_new,sigma1_new).pdf(x) for x in samples]\n",
    "p1 = [scipy.stats.norm(mu2_new,sigma2_new).pdf(x) for x in samples]\n",
    "class_pred= []\n",
    "for x, y in zip(p0, p1):\n",
    "    if x < y: \n",
    "        class_pred_i = 1\n",
    "    else:\n",
    "        class_pred_i = 0\n",
    "    class_pred.append(class_pred_i)\n",
    "# sample 100000 times from this two updated normal distribution from initial\n",
    "samples_1 = np.random.normal(mu1_new, sigma1_new, 100000)\n",
    "samples_2 = np.random.normal(mu2_new, sigma2_new, 100000)\n",
    "# get pdf from the samples \n",
    "y_normal_1 = scipy.stats.norm(mu1_new, sigma1_new).pdf(np.sort(samples_1))\n",
    "y_normal_2 = scipy.stats.norm(mu2_new, sigma2_new).pdf(np.sort(samples_2))\n",
    "# plot \n",
    "plt.rcParams[\"figure.figsize\"] = [10, 5]\n",
    "y_value = 0\n",
    "y = np.zeros_like(samples) + y_value\n",
    "plt.scatter(samples, y, ls='dotted', c=class_pred)\n",
    "plt.plot(np.sort(samples_1), y_normal_1, c='purple')\n",
    "plt.plot(np.sort(samples_2), y_normal_2, c='yellow')"
   ]
  },
  {
   "cell_type": "code",
   "execution_count": null,
   "id": "a96bcc3d",
   "metadata": {},
   "outputs": [],
   "source": [
    "p(class0) = (0.622 + 0.377 + ... + 0.00001)/13\n",
    "          = 0.11\n",
    "p(class1) = 1-p(class0) = 0.89"
   ]
  },
  {
   "cell_type": "code",
   "execution_count": null,
   "id": "d604a0cb",
   "metadata": {},
   "outputs": [],
   "source": [
    "# update the prior\n",
    "prior_class_0 = sum(df_likelihood['p(class0|x)'])/ 13\n",
    "print(prior_class_0)\n",
    "prior_class_1 = 1 - prior_class_0\n",
    "print(prior_class_1)"
   ]
  },
  {
   "cell_type": "code",
   "execution_count": null,
   "id": "9f1abf94",
   "metadata": {},
   "outputs": [],
   "source": [
    "p(class_1) = 0.11\n",
    "p(class_0) = 0.89\n",
    "mu1 = 1.08\n",
    "sigma1 = 0.34\n",
    "mu2 = 5.49\n",
    "sigma2 = 0.90"
   ]
  },
  {
   "cell_type": "code",
   "execution_count": null,
   "id": "0175fce0",
   "metadata": {},
   "outputs": [],
   "source": [
    "# initial df \n",
    "import pandas as pd\n",
    "# df\n",
    "label = [1,1,1,1,1,1, 0,0,0,0,0,0,0]\n",
    "samples = [0,1,3,4,5,6,7, 2,2.5,4.5,8,10,12]\n",
    "df = pd.DataFrame([samples, label]).transpose()\n",
    "df.columns = ['samples', 'label']\n",
    "# ---------------------------------------------------------\n",
    "# define function \n",
    "def expectation_maximization(df,mu1, sigma1, mu2, sigma2, prior_class_1, prior_class_0,max_iteration):\n",
    "    \n",
    "    likelihoods = []\n",
    "    i = 0\n",
    "    while i <= max_iteration:\n",
    "        # E step\n",
    "        # get likelihood of x in class0\n",
    "        df['p(X=x|class0)'] = [scipy.stats.norm(mu1, sigma1).pdf(x) for x in df.samples]\n",
    "        # get likelihood of x in class1\n",
    "        df['p(X=x|class1)'] = [scipy.stats.norm(mu2, sigma2).pdf(x) for x in df.samples]\n",
    "        \n",
    "        # get likelihood that need to be maximized \n",
    "        likelihood = sum([np.log(x) for x in (prior_class_1*df['p(X=x|class0)']+prior_class_0*df['p(X=x|class1)'])])\n",
    "        likelihoods.append(likelihood)\n",
    "        ## get likelihood of class0 given x\n",
    "        df['p(class0|x)'] = df.apply(lambda row: \n",
    "                                         row[\"p(X=x|class0)\"] * prior_class_1/(row[\"p(X=x|class0)\"]*prior_class_1+row[\"p(X=x|class1)\"]*prior_class_1),\n",
    "                                         axis =1\n",
    "                                        )\n",
    "        ## get likelihood of class1 occurs given x\n",
    "        df['p(class1|x)'] = df.apply(lambda row: \n",
    "                                         row['p(X=x|class1)'] * prior_class_0/(row['p(X=x|class0)']*prior_class_0+row['p(X=x|class1)']*prior_class_0),\n",
    "                                         axis=1\n",
    "                                        )\n",
    "        # standardize the likelihood \n",
    "        df['p(class0|x)_standardized'] = df['p(class0|x)'] / sum(df['p(class0|x)'])\n",
    "        df['p(class1|x)_standardized'] = df['p(class1|x)'] / sum(df['p(class1|x)'])\n",
    "        # M step:\n",
    "        ## update the parameters by taking expectation \n",
    "        mu1 = sum(df['samples'] * df['p(class0|x)_standardized'])\n",
    "        variance1 = sum((df['samples']-mu1)**2 * df['p(class0|x)_standardized'])\n",
    "        sigma1 = np.sqrt(variance1_new/df.shape[0])\n",
    "        mu2 = sum(df['samples'] * df['p(class1|x)_standardized'])\n",
    "        variance2 = sum((df['samples']-mu2)**2 * df['p(class1|x)_standardized'])\n",
    "        sigma2 = np.sqrt(variance2_new/df.shape[0])\n",
    "        # Update prior\n",
    "        prior_class_1 = sum(df['p(class0|x)'])/ df.shape[0]\n",
    "        prior_class_0 = sum(df['p(class1|x)'])/ df.shape[0]\n",
    "        # assign samples into class after updating parameters\n",
    "        p0 = [scipy.stats.norm(mu1,sigma2).pdf(x) for x in df['samples']]\n",
    "        p1 = [scipy.stats.norm(mu2,sigma2).pdf(x) for x in df['samples']]\n",
    "        # predict class for plotting\n",
    "        class_pred= []\n",
    "        for x, y in zip(p0, p1):\n",
    "            if x < y: \n",
    "                class_pred_i = 1\n",
    "            else:\n",
    "                class_pred_i = 0\n",
    "            class_pred.append(class_pred_i)\n",
    "            \n",
    "        df['class_pred'] = class_pred\n",
    "        \n",
    "        i += 1\n",
    "    \n",
    "    return mu1, sigma1, mu2, sigma2, likelihoods, df\n",
    "# ---------------------------------------------------------\n",
    "# run this function for 10 times \n",
    "mu1, sigma1, mu2, sigma2, likelihood, df_final = expectation_maximization(df=df, mu1=0, sigma1=1, mu2=1, sigma2=1, prior_class_1=0.5, prior_class_0=0.5, max_iteration = 10)"
   ]
  },
  {
   "cell_type": "code",
   "execution_count": null,
   "id": "1b5392e6",
   "metadata": {},
   "outputs": [],
   "source": [
    "# sample 100000 times from this two updated normal distribution from initial\n",
    "samples_1 = np.random.normal(mu1, sigma1, 100000)\n",
    "samples_2 = np.random.normal(mu2, sigma2, 100000)\n",
    "# get pdf from the samples \n",
    "y_normal_1 = scipy.stats.norm(mu1, sigma1).pdf(np.sort(samples_1))\n",
    "y_normal_2 = scipy.stats.norm(mu2, sigma2).pdf(np.sort(samples_2))\n",
    "# plot \n",
    "plt.rcParams[\"figure.figsize\"] = [10, 5]\n",
    "y_value = 0\n",
    "y = np.zeros_like(samples) + y_value\n",
    "plt.scatter(samples, y, ls='dotted', c=df_final['class_pred'])\n",
    "plt.plot(np.sort(samples_1), y_normal_1, c='purple')\n",
    "plt.plot(np.sort(samples_2), y_normal_2, c='yellow')"
   ]
  },
  {
   "cell_type": "code",
   "execution_count": null,
   "id": "7f783a72",
   "metadata": {},
   "outputs": [],
   "source": [
    "scipy.stats.norm(1.69, 0.34).pdf(5)\n",
    "scipy.stats.norm(7.05, 0.9).pdf(5)"
   ]
  },
  {
   "cell_type": "code",
   "execution_count": null,
   "id": "ec271d1c",
   "metadata": {},
   "outputs": [],
   "source": []
  }
 ],
 "metadata": {
  "kernelspec": {
   "display_name": "Python 3 (ipykernel)",
   "language": "python",
   "name": "python3"
  },
  "language_info": {
   "codemirror_mode": {
    "name": "ipython",
    "version": 3
   },
   "file_extension": ".py",
   "mimetype": "text/x-python",
   "name": "python",
   "nbconvert_exporter": "python",
   "pygments_lexer": "ipython3",
   "version": "3.9.12"
  }
 },
 "nbformat": 4,
 "nbformat_minor": 5
}
