{
 "cells": [
  {
   "cell_type": "code",
   "execution_count": 3,
   "id": "8fbc4716",
   "metadata": {},
   "outputs": [],
   "source": [
    "# Import Libraries \n",
    "import pulp as p\n",
    "import pandas as pd\n",
    "import numpy as np"
   ]
  },
  {
   "cell_type": "code",
   "execution_count": 4,
   "id": "ef71b9a3",
   "metadata": {},
   "outputs": [
    {
     "name": "stdout",
     "output_type": "stream",
     "text": [
      "Problem:\n",
      "MINIMIZE\n",
      "3*x + 5*y + 0\n",
      "SUBJECT TO\n",
      "_C1: 2 x + 3 y >= 12\n",
      "\n",
      "_C2: - x + y <= 3\n",
      "\n",
      "_C3: x >= 4\n",
      "\n",
      "_C4: y <= 3\n",
      "\n",
      "VARIABLES\n",
      "x Continuous\n",
      "y Continuous\n",
      "\n",
      "Optimal\n",
      "6.0 0.0 18.0\n"
     ]
    }
   ],
   "source": [
    "# Create a LP Minimization problem\n",
    "Lp_prob = p.LpProblem('Problem', p.LpMinimize) \n",
    "  \n",
    "# Create problem Variables \n",
    "x = p.LpVariable(\"x\", lowBound = 0)   # Create a variable x >= 0\n",
    "y = p.LpVariable(\"y\", lowBound = 0)   # Create a variable y >= 0\n",
    "  \n",
    "# Objective Function\n",
    "Lp_prob += 3 * x + 5 * y   \n",
    "  \n",
    "# Constraints:\n",
    "Lp_prob += 2 * x + 3 * y >= 12\n",
    "Lp_prob += -x + y <= 3\n",
    "Lp_prob += x >= 4\n",
    "Lp_prob += y <= 3\n",
    "  \n",
    "# Display the problem\n",
    "print(Lp_prob)\n",
    "  \n",
    "status = Lp_prob.solve()   # Solver\n",
    "print(p.LpStatus[status])   # The solution status\n",
    "  \n",
    "# Printing the final solution\n",
    "print(p.value(x), p.value(y), p.value(Lp_prob.objective))  "
   ]
  },
  {
   "cell_type": "code",
   "execution_count": 5,
   "id": "ac6b299c",
   "metadata": {},
   "outputs": [
    {
     "name": "stdout",
     "output_type": "stream",
     "text": [
      "Problem:\n",
      "MINIMIZE\n",
      "3*x + 5*y + 0\n",
      "SUBJECT TO\n",
      "_C1: 2 x + 3 y >= 12\n",
      "\n",
      "_C2: - x + y <= 3\n",
      "\n",
      "_C3: x >= 4\n",
      "\n",
      "_C4: y <= 3\n",
      "\n",
      "VARIABLES\n",
      "x Continuous\n",
      "y Continuous\n",
      "\n"
     ]
    }
   ],
   "source": [
    "# Display the problem\n",
    "print(Lp_prob)"
   ]
  },
  {
   "cell_type": "code",
   "execution_count": 6,
   "id": "7ddbeb53",
   "metadata": {},
   "outputs": [
    {
     "name": "stdout",
     "output_type": "stream",
     "text": [
      "Optimal\n"
     ]
    }
   ],
   "source": [
    "status = Lp_prob.solve() # Solver\n",
    "print(p.LpStatus[status]) # The solution status"
   ]
  },
  {
   "cell_type": "code",
   "execution_count": 7,
   "id": "6db189b2",
   "metadata": {},
   "outputs": [
    {
     "name": "stdout",
     "output_type": "stream",
     "text": [
      "6.0 0.0 18.0\n"
     ]
    }
   ],
   "source": [
    "# Printing the final solution\n",
    "print(p.value(x), p.value(y), p.value(Lp_prob.objective))"
   ]
  }
 ],
 "metadata": {
  "kernelspec": {
   "display_name": "Python 3 (ipykernel)",
   "language": "python",
   "name": "python3"
  },
  "language_info": {
   "codemirror_mode": {
    "name": "ipython",
    "version": 3
   },
   "file_extension": ".py",
   "mimetype": "text/x-python",
   "name": "python",
   "nbconvert_exporter": "python",
   "pygments_lexer": "ipython3",
   "version": "3.9.12"
  }
 },
 "nbformat": 4,
 "nbformat_minor": 5
}
